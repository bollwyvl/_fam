{
 "cells": [
  {
   "cell_type": "markdown",
   "metadata": {},
   "source": [
    "# deathbeds friends & family \n",
    "> 07-11-2020"
   ]
  }
 ],
 "metadata": {
  "jupyterlab-drawio": {
   "xml": "<mxfile host=\"hub.gke.mybinder.org\" modified=\"2020-07-10T20:35:32.106Z\" agent=\"5.0 (X11; Linux x86_64) AppleWebKit/537.36 (KHTML, like Gecko) Chrome/81.0.4044.138 Safari/537.36\" version=\"13.3.8\" etag=\"YyiWbrrikbdBf85Tt2e8\"><diagram id=\"niOA2LmsVZGZcyxjI-jo\" name=\"Page-1\"><mxGraphModel dx=\"3493\" dy=\"2427\" grid=\"1\" gridSize=\"10\" guides=\"1\" tooltips=\"1\" connect=\"1\" arrows=\"1\" fold=\"1\" page=\"1\" pageScale=\"1\" pageWidth=\"1600\" pageHeight=\"900\" background=\"#008062\" math=\"0\" shadow=\"0\" extFonts=\"Monoton^https://tools-static.wmflabs.org/fontcdn/s/monoton/v9/5h1aiZUrOngCibe4TkHLQg.woff2\"><root><mxCell id=\"0\"/><mxCell id=\"1\" parent=\"0\"/><mxCell id=\"2\" value=\"deathbeds\" style=\"text;html=1;strokeColor=none;fillColor=none;align=left;verticalAlign=bottom;whiteSpace=wrap;rounded=0;fontSize=160;fontFamily=Monoton;fontStyle=2;FType=w;\" vertex=\"1\" parent=\"1\"><mxGeometry x=\"50\" y=\"860\" width=\"40\" height=\"20\" as=\"geometry\"/></mxCell><mxCell id=\"3\" value=\"friends &amp;amp; family\" style=\"text;html=1;strokeColor=none;fillColor=none;align=center;verticalAlign=middle;whiteSpace=wrap;rounded=0;fontSize=160;fontFamily=Monoton;FType=w;fontColor=#F4811F;fontStyle=0\" vertex=\"1\" parent=\"1\"><mxGeometry x=\"370\" y=\"360\" width=\"890\" height=\"20\" as=\"geometry\"/></mxCell></root></mxGraphModel></diagram></mxfile>"
  },
  "kernelspec": {
   "display_name": "Python 3",
   "language": "python",
   "name": "python3"
  },
  "language_info": {
   "codemirror_mode": {
    "name": "ipython",
    "version": 3
   },
   "file_extension": ".py",
   "mimetype": "text/x-python",
   "name": "python",
   "nbconvert_exporter": "python",
   "pygments_lexer": "ipython3",
   "version": "3.7.6"
  }
 },
 "nbformat": 4,
 "nbformat_minor": 4
}
